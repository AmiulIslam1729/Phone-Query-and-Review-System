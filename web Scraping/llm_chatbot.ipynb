{
 "cells": [
  {
   "cell_type": "code",
   "execution_count": null,
   "id": "de2a3f02",
   "metadata": {},
   "outputs": [],
   "source": [
    "from langchain.document_loaders import CSVLoader\n",
    "from langchain.schema import Document\n",
    "import glob, os\n",
    "from dotenv import load_dotenv\n",
    "load_dotenv()"
   ]
  },
  {
   "cell_type": "code",
   "execution_count": null,
   "id": "1e84a13f",
   "metadata": {},
   "outputs": [],
   "source": [
    "phones_corpus = []\n",
    "\n",
    "csv_loader = CSVLoader(file_path=\"C:\\Users\\Lenovo\\Downloads\\updated_phone_specs.csv\")  \n",
    "docs = csv_loader.load()\n",
    "\n",
    "# Add metadata \n",
    "for doc in docs:\n",
    "    # If phone name column exists in CSV, you can use it instead of file name\n",
    "    phone_name = doc.metadata.get(\"source\", \"unknown\").replace(\".csv\", \"\")\n",
    "    doc.metadata.update({\n",
    "        \"phone_name\": phone_name,\n",
    "        \"phone_brand\": \"samsung\"\n",
    "    })\n",
    "    phones_corpus.append(doc)\n",
    "\n",
    "len(phones_corpus)"
   ]
  },
  {
   "cell_type": "code",
   "execution_count": null,
   "id": "24536ddc",
   "metadata": {},
   "outputs": [],
   "source": [
    "phones_corpus[-1]"
   ]
  },
  {
   "cell_type": "code",
   "execution_count": null,
   "id": "9b80e5d4",
   "metadata": {},
   "outputs": [],
   "source": [
    "from langchain_groq import ChatGroq\n",
    "\n",
    "os.environ[\"HF_TOKEN\"] = os.getenv(\"HF_TOKEN\")\n",
    "os.environ[\"GROQ_API_KEY\"] = os.getenv(\"GROQ_API_KEY\")\n",
    "\n",
    "from langchain_huggingface import HuggingFaceEmbeddings\n",
    "\n",
    "embedder = HuggingFaceEmbeddings(model_name=\"sentence-transformers/all-mpnet-base-v2\")\n",
    "language_model = ChatGroq(model=\"meta-llama/llama-4-scout-17b-16e-instruct\")"
   ]
  },
  {
   "cell_type": "code",
   "execution_count": null,
   "id": "b3548cbc",
   "metadata": {},
   "outputs": [],
   "source": [
    "language_model.invoke(\"test line\")"
   ]
  },
  {
   "cell_type": "code",
   "execution_count": null,
   "id": "ce3e7004",
   "metadata": {},
   "outputs": [],
   "source": [
    "len(embedder.embed_query(\"Test\"))"
   ]
  },
  {
   "cell_type": "code",
   "execution_count": null,
   "id": "540f10d1",
   "metadata": {},
   "outputs": [],
   "source": []
  },
  {
   "cell_type": "code",
   "execution_count": null,
   "id": "b5e451c6",
   "metadata": {},
   "outputs": [],
   "source": [
    "from pinecone import Pinecone\n",
    "os.environ[\"PINECONE_API_KEY\"] = os.getenv(\"PINECONE_API_KEY\")\n",
    "\n",
    "pine_api_key = os.getenv(\"PINECONE_API_KEY\")"
   ]
  },
  {
   "cell_type": "code",
   "execution_count": null,
   "id": "f7c7e5db",
   "metadata": {},
   "outputs": [],
   "source": [
    "pine_client = Pinecone(api_key=pine_api_key)"
   ]
  },
  {
   "cell_type": "code",
   "execution_count": null,
   "id": "0f5df104",
   "metadata": {},
   "outputs": [],
   "source": [
    "from pinecone import ServerlessSpec ## you are not going to mange the server. and its managed by the cloud provider.\n",
    "## create pine_index\n",
    "index_name = \"samsung-db\"\n",
    "\n",
    "if not pine_client.has_index(index_name):\n",
    "    pine_client.create_index(\n",
    "    name=index_name,\n",
    "    dimension=768,\n",
    "    metric=\"dotproduct\",\n",
    "    spec=ServerlessSpec(\n",
    "        cloud=\"aws\",\n",
    "        region=\"us-east-1\"\n",
    "    )\n",
    ")"
   ]
  },
  {
   "cell_type": "code",
   "execution_count": null,
   "id": "56cf20fe",
   "metadata": {},
   "outputs": [],
   "source": [
    "pine_index = pine_client.Index(index_name)\n",
    "pine_index"
   ]
  },
  {
   "cell_type": "code",
   "execution_count": null,
   "id": "7472473c",
   "metadata": {},
   "outputs": [],
   "source": [
    "from langchain_pinecone import PineconeVectorStore\n",
    "\n",
    "vs = PineconeVectorStore(pine_index=pine_index, embedding=embedder)\n",
    "vs"
   ]
  },
  {
   "cell_type": "code",
   "execution_count": null,
   "id": "b02cede1",
   "metadata": {},
   "outputs": [],
   "source": [
    "vs.add_documents(documents=phones_corpus)"
   ]
  },
  {
   "cell_type": "code",
   "execution_count": null,
   "id": "72b62ce8",
   "metadata": {},
   "outputs": [],
   "source": [
    "resp = vs.similarity_search_with_score(query=\"What are the camera specs of the Samsung Galaxy S23 ultra\")\n",
    "resp[0]"
   ]
  },
  {
   "cell_type": "code",
   "execution_count": null,
   "id": "2ea1d173",
   "metadata": {},
   "outputs": [],
   "source": [
    "retr = vs.as_retriever(\n",
    "    search_type = \"similarity\",\n",
    "    search_kwargs={\n",
    "        \"k\": 3\n",
    "    }\n",
    ")"
   ]
  },
  {
   "cell_type": "code",
   "execution_count": null,
   "id": "ccd20c5c",
   "metadata": {},
   "outputs": [],
   "source": [
    "resp = retr.invoke(\"What are the camera specs of the Samsung Galaxy S23 Ultra?\")\n",
    "resp"
   ]
  },
  {
   "cell_type": "code",
   "execution_count": null,
   "id": "842508d8",
   "metadata": {},
   "outputs": [],
   "source": [
    "from langchain_core.prompts import PromptTemplate\n",
    "\n",
    "qa_prompt = PromptTemplate(\n",
    "    template=\"\"\"\n",
    "You are a helpful AI assistant and an expert at answering Samsung phone-related questions.\n",
    "Your job is to provide **clear and direct answers** using the correct document.\n",
    "\n",
    "do not mention this type of resp:\n",
    "\n",
    "example:\n",
    "\n",
    "    The user is asking about the camera specs of the Samsung Galaxy S23 Ultra.\n",
    "\n",
    "    After checking the metadata of the retrieved documents, I found an exact match: `samsung_galaxy_s23_ultra`.\n",
    "Answer clear and direct way like normally answer the user question according the context.\n",
    "\n",
    "- You will receive two documents as context.\n",
    "- Only use the document where the metadata `phone_name` exactly matches the phone model in the user's question.\n",
    "- If no document matches, say: \"Sorry, I do not know the answer because the correct phone model was not found in the retrieved context.\"\n",
    "- Do not explain how you found the information. Just provide the final answer clearly and concisely.\n",
    "\n",
    "Example of phone name matching:  \n",
    "If the user question mentions **\"Samsung Galaxy S23 Ultra\"**  \n",
    "and a document metadata has **phone_name: samsung_galaxy_s23_ultra**  \n",
    "→ this is an exact match.\n",
    "\n",
    "---\n",
    "\n",
    "User question:  \n",
    "{question}\n",
    "\n",
    "---\n",
    "\n",
    "Retrieved documents:  \n",
    "{context}\n",
    "\"\"\",\n",
    "    input_variables=[\"question\", \"context\"]\n",
    ")\n"
   ]
  },
  {
   "cell_type": "code",
   "execution_count": null,
   "id": "83713922",
   "metadata": {},
   "outputs": [],
   "source": [
    "from langchain_core.runnables import RunnablePassthrough\n",
    "\n",
    "def format_docs(retriever_docs):\n",
    "    context_text = \"\"\n",
    "    for document_entry in retriever_docs:\n",
    "        phone_name = document_entry.metadata.get(\"phone_name\", \"unknown\")\n",
    "        context_text += f\"Phone name (metadata): {phone_name}\\n\"\n",
    "        context_text += f\"{document_entry.page_content}\\n\\n\"\n",
    "    # print(context_text)\n",
    "    return context_text.strip()\n"
   ]
  },
  {
   "cell_type": "code",
   "execution_count": null,
   "id": "714102af",
   "metadata": {},
   "outputs": [],
   "source": [
    "\n",
    "from langchain_core.output_parsers import StrOutputParser\n",
    "from langchain_core.runnables import RunnablePassthrough\n",
    "\n",
    "from IPython.display import display, Image\n",
    "rag_pipeline = (\n",
    "    {\n",
    "        \"context\": retr | format_docs,\n",
    "        \"question\": RunnablePassthrough()\n",
    "    }\n",
    "    | qa_prompt\n",
    "    | language_model\n",
    "    | StrOutputParser()\n",
    ")\n",
    "\n",
    "\n",
    "display(Image(rag_pipeline.get_graph().draw_mermaid_png()))"
   ]
  },
  {
   "cell_type": "code",
   "execution_count": null,
   "id": "73ff5cce",
   "metadata": {},
   "outputs": [],
   "source": [
    "question = \"Which Samsung phone has the best battery life?\"\n",
    "resp = rag_pipeline.invoke(question)\n",
    "print(resp)"
   ]
  },
  {
   "cell_type": "code",
   "execution_count": null,
   "id": "b54e498c",
   "metadata": {},
   "outputs": [],
   "source": [
    "question = \"How does the Galaxy S23 compare to the S24 ultra in terms of performance?\"\n",
    "\n",
    "question = \"Which Samsung phone has the best battery life?\"\n",
    "resp = rag_pipeline.invoke(question)\n",
    "print(resp)"
   ]
  }
 ],
 "metadata": {
  "kernelspec": {
   "display_name": "venv",
   "language": "python",
   "name": "python3"
  },
  "language_info": {
   "codemirror_mode": {
    "name": "ipython",
    "version": 3
   },
   "file_extension": ".py",
   "mimetype": "text/x-python",
   "name": "python",
   "nbconvert_exporter": "python",
   "pygments_lexer": "ipython3",
   "version": "3.12.8"
  }
 },
 "nbformat": 4,
 "nbformat_minor": 5
}
